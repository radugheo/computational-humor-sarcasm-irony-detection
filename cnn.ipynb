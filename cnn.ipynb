{
 "cells": [
  {
   "cell_type": "code",
   "execution_count": 1,
   "id": "a94bd967",
   "metadata": {
    "_cell_guid": "b1076dfc-b9ad-4769-8c92-a6c4dae69d19",
    "_uuid": "8f2839f25d086af736a60e9eeb907d3b93b6e0e5",
    "execution": {
     "iopub.execute_input": "2024-05-10T13:49:33.081004Z",
     "iopub.status.busy": "2024-05-10T13:49:33.080628Z",
     "iopub.status.idle": "2024-05-10T13:49:33.883583Z",
     "shell.execute_reply": "2024-05-10T13:49:33.882671Z"
    },
    "papermill": {
     "duration": 0.810598,
     "end_time": "2024-05-10T13:49:33.885985",
     "exception": false,
     "start_time": "2024-05-10T13:49:33.075387",
     "status": "completed"
    },
    "tags": []
   },
   "outputs": [
    {
     "name": "stdout",
     "output_type": "stream",
     "text": [
      "/kaggle/input/tweets-with-sarcasm-and-irony/train.csv\n",
      "/kaggle/input/tweets-with-sarcasm-and-irony/test.csv\n"
     ]
    }
   ],
   "source": [
    "# This Python 3 environment comes with many helpful analytics libraries installed\n",
    "# It is defined by the kaggle/python Docker image: https://github.com/kaggle/docker-python\n",
    "# For example, here's several helpful packages to load\n",
    "\n",
    "import numpy as np # linear algebra\n",
    "import pandas as pd # data processing, CSV file I/O (e.g. pd.read_csv)\n",
    "\n",
    "# Input data files are available in the read-only \"../input/\" directory\n",
    "# For example, running this (by clicking run or pressing Shift+Enter) will list all files under the input directory\n",
    "\n",
    "import os\n",
    "for dirname, _, filenames in os.walk('/kaggle/input'):\n",
    "    for filename in filenames:\n",
    "        print(os.path.join(dirname, filename))\n",
    "\n",
    "# You can write up to 20GB to the current directory (/kaggle/working/) that gets preserved as output when you create a version using \"Save & Run All\" \n",
    "# You can also write temporary files to /kaggle/temp/, but they won't be saved outside of the current session"
   ]
  },
  {
   "cell_type": "code",
   "execution_count": 2,
   "id": "3edf7eba",
   "metadata": {
    "execution": {
     "iopub.execute_input": "2024-05-10T13:49:33.894739Z",
     "iopub.status.busy": "2024-05-10T13:49:33.894237Z",
     "iopub.status.idle": "2024-05-10T13:49:47.831649Z",
     "shell.execute_reply": "2024-05-10T13:49:47.830502Z"
    },
    "papermill": {
     "duration": 13.945052,
     "end_time": "2024-05-10T13:49:47.834808",
     "exception": false,
     "start_time": "2024-05-10T13:49:33.889756",
     "status": "completed"
    },
    "tags": []
   },
   "outputs": [
    {
     "name": "stderr",
     "output_type": "stream",
     "text": [
      "2024-05-10 13:49:37.125128: E external/local_xla/xla/stream_executor/cuda/cuda_dnn.cc:9261] Unable to register cuDNN factory: Attempting to register factory for plugin cuDNN when one has already been registered\n",
      "2024-05-10 13:49:37.125241: E external/local_xla/xla/stream_executor/cuda/cuda_fft.cc:607] Unable to register cuFFT factory: Attempting to register factory for plugin cuFFT when one has already been registered\n",
      "2024-05-10 13:49:37.254528: E external/local_xla/xla/stream_executor/cuda/cuda_blas.cc:1515] Unable to register cuBLAS factory: Attempting to register factory for plugin cuBLAS when one has already been registered\n"
     ]
    }
   ],
   "source": [
    "import numpy as np\n",
    "import pandas as pd\n",
    "import matplotlib.pyplot as plt\n",
    "from sklearn.preprocessing import LabelEncoder\n",
    "from sklearn.model_selection import train_test_split\n",
    "from sklearn.feature_extraction.text import TfidfVectorizer\n",
    "from sklearn.svm import SVC\n",
    "from sklearn.metrics import confusion_matrix, classification_report\n",
    "from sklearn.pipeline import make_pipeline\n",
    "from sklearn.metrics import accuracy_score\n",
    "from sklearn.feature_extraction.text import CountVectorizer\n",
    "from tensorflow.keras.preprocessing.text import Tokenizer\n",
    "from tensorflow.keras.preprocessing.sequence import pad_sequences\n",
    "from tensorflow.keras.models import Sequential\n",
    "from tensorflow.keras.layers import Dense, Embedding, Conv1D, GlobalMaxPooling1D, Dropout\n",
    "from tensorflow.keras.utils import to_categorical"
   ]
  },
  {
   "cell_type": "code",
   "execution_count": 3,
   "id": "d5a1fad9",
   "metadata": {
    "execution": {
     "iopub.execute_input": "2024-05-10T13:49:47.843637Z",
     "iopub.status.busy": "2024-05-10T13:49:47.842989Z",
     "iopub.status.idle": "2024-05-10T13:49:48.362848Z",
     "shell.execute_reply": "2024-05-10T13:49:48.361514Z"
    },
    "papermill": {
     "duration": 0.527068,
     "end_time": "2024-05-10T13:49:48.365460",
     "exception": false,
     "start_time": "2024-05-10T13:49:47.838392",
     "status": "completed"
    },
    "tags": []
   },
   "outputs": [
    {
     "name": "stdout",
     "output_type": "stream",
     "text": [
      "                                              tweets       class\n",
      "0  Be aware  dirty step to get money  #staylight ...  figurative\n",
      "1  #sarcasm for #people who don't understand #diy...  figurative\n",
      "2  @IminworkJeremy @medsingle #DailyMail readers ...  figurative\n",
      "3  @wilw Why do I get the feeling you like games?...  figurative\n",
      "4  -@TeacherArthurG @rweingarten You probably jus...  figurative\n"
     ]
    }
   ],
   "source": [
    "# Load the data\n",
    "train_data = pd.read_csv('/kaggle/input/tweets-with-sarcasm-and-irony/train.csv')\n",
    "test_data = pd.read_csv('/kaggle/input/tweets-with-sarcasm-and-irony/test.csv')\n",
    "\n",
    "# Remove rows where 'tweets' column is NaN\n",
    "train_data = train_data.dropna(subset=['tweets'])\n",
    "test_data = test_data.dropna(subset=['tweets'])\n",
    "\n",
    "train_data = train_data.dropna(subset=['class'])\n",
    "test_data = test_data.dropna(subset=['class'])\n",
    "\n",
    "# Display the first few rows\n",
    "print(train_data.head())"
   ]
  },
  {
   "cell_type": "code",
   "execution_count": 4,
   "id": "9a857b04",
   "metadata": {
    "execution": {
     "iopub.execute_input": "2024-05-10T13:49:48.375190Z",
     "iopub.status.busy": "2024-05-10T13:49:48.374082Z",
     "iopub.status.idle": "2024-05-10T13:49:53.935408Z",
     "shell.execute_reply": "2024-05-10T13:49:53.934310Z"
    },
    "papermill": {
     "duration": 5.568949,
     "end_time": "2024-05-10T13:49:53.938254",
     "exception": false,
     "start_time": "2024-05-10T13:49:48.369305",
     "status": "completed"
    },
    "tags": []
   },
   "outputs": [],
   "source": [
    "# Tokenization and sequence padding\n",
    "tokenizer = Tokenizer(num_words=1000)\n",
    "tokenizer.fit_on_texts(train_data['tweets'])\n",
    "\n",
    "X_train = tokenizer.texts_to_sequences(train_data['tweets'])\n",
    "X_test = tokenizer.texts_to_sequences(test_data['tweets'])\n",
    "\n",
    "# Pad sequences\n",
    "max_length = max([len(x) for x in X_train])  # Get max length of the sequences\n",
    "X_train = pad_sequences(X_train, maxlen=max_length)\n",
    "X_test = pad_sequences(X_test, maxlen=max_length)\n",
    "\n",
    "# Convert labels to categorical\n",
    "encoder = LabelEncoder()\n",
    "encoder.fit(train_data['class'])\n",
    "y_train = encoder.transform(train_data['class'])\n",
    "y_test = encoder.transform(test_data['class'])\n",
    "y_train = to_categorical(y_train)\n",
    "y_test = to_categorical(y_test)"
   ]
  },
  {
   "cell_type": "code",
   "execution_count": 5,
   "id": "9b201977",
   "metadata": {
    "execution": {
     "iopub.execute_input": "2024-05-10T13:49:53.947091Z",
     "iopub.status.busy": "2024-05-10T13:49:53.946733Z",
     "iopub.status.idle": "2024-05-10T13:52:27.162950Z",
     "shell.execute_reply": "2024-05-10T13:52:27.161683Z"
    },
    "papermill": {
     "duration": 153.223512,
     "end_time": "2024-05-10T13:52:27.165444",
     "exception": false,
     "start_time": "2024-05-10T13:49:53.941932",
     "status": "completed"
    },
    "tags": []
   },
   "outputs": [
    {
     "name": "stdout",
     "output_type": "stream",
     "text": [
      "Epoch 1/10\n"
     ]
    },
    {
     "name": "stderr",
     "output_type": "stream",
     "text": [
      "/opt/conda/lib/python3.10/site-packages/keras/src/layers/core/embedding.py:86: UserWarning: Argument `input_length` is deprecated. Just remove it.\n",
      "  warnings.warn(\n"
     ]
    },
    {
     "name": "stdout",
     "output_type": "stream",
     "text": [
      "\u001b[1m1272/1272\u001b[0m \u001b[32m━━━━━━━━━━━━━━━━━━━━\u001b[0m\u001b[37m\u001b[0m \u001b[1m15s\u001b[0m 10ms/step - accuracy: 0.6763 - loss: 0.6588 - val_accuracy: 0.7479 - val_loss: 0.4905\n",
      "Epoch 2/10\n",
      "\u001b[1m1272/1272\u001b[0m \u001b[32m━━━━━━━━━━━━━━━━━━━━\u001b[0m\u001b[37m\u001b[0m \u001b[1m13s\u001b[0m 10ms/step - accuracy: 0.7376 - loss: 0.5032 - val_accuracy: 0.7476 - val_loss: 0.4910\n",
      "Epoch 3/10\n",
      "\u001b[1m1272/1272\u001b[0m \u001b[32m━━━━━━━━━━━━━━━━━━━━\u001b[0m\u001b[37m\u001b[0m \u001b[1m12s\u001b[0m 10ms/step - accuracy: 0.7360 - loss: 0.5019 - val_accuracy: 0.7480 - val_loss: 0.4898\n",
      "Epoch 4/10\n",
      "\u001b[1m1272/1272\u001b[0m \u001b[32m━━━━━━━━━━━━━━━━━━━━\u001b[0m\u001b[37m\u001b[0m \u001b[1m13s\u001b[0m 10ms/step - accuracy: 0.7422 - loss: 0.4946 - val_accuracy: 0.7478 - val_loss: 0.4915\n",
      "Epoch 5/10\n",
      "\u001b[1m1272/1272\u001b[0m \u001b[32m━━━━━━━━━━━━━━━━━━━━\u001b[0m\u001b[37m\u001b[0m \u001b[1m20s\u001b[0m 10ms/step - accuracy: 0.7362 - loss: 0.4994 - val_accuracy: 0.7479 - val_loss: 0.4918\n",
      "Epoch 6/10\n",
      "\u001b[1m1272/1272\u001b[0m \u001b[32m━━━━━━━━━━━━━━━━━━━━\u001b[0m\u001b[37m\u001b[0m \u001b[1m13s\u001b[0m 10ms/step - accuracy: 0.7400 - loss: 0.4955 - val_accuracy: 0.7476 - val_loss: 0.4925\n",
      "Epoch 7/10\n",
      "\u001b[1m1272/1272\u001b[0m \u001b[32m━━━━━━━━━━━━━━━━━━━━\u001b[0m\u001b[37m\u001b[0m \u001b[1m20s\u001b[0m 10ms/step - accuracy: 0.7384 - loss: 0.4961 - val_accuracy: 0.7478 - val_loss: 0.4946\n",
      "Epoch 8/10\n",
      "\u001b[1m1272/1272\u001b[0m \u001b[32m━━━━━━━━━━━━━━━━━━━━\u001b[0m\u001b[37m\u001b[0m \u001b[1m13s\u001b[0m 11ms/step - accuracy: 0.7377 - loss: 0.4937 - val_accuracy: 0.7478 - val_loss: 0.4967\n",
      "Epoch 9/10\n",
      "\u001b[1m1272/1272\u001b[0m \u001b[32m━━━━━━━━━━━━━━━━━━━━\u001b[0m\u001b[37m\u001b[0m \u001b[1m13s\u001b[0m 10ms/step - accuracy: 0.7411 - loss: 0.4888 - val_accuracy: 0.7476 - val_loss: 0.5060\n",
      "Epoch 10/10\n",
      "\u001b[1m1272/1272\u001b[0m \u001b[32m━━━━━━━━━━━━━━━━━━━━\u001b[0m\u001b[37m\u001b[0m \u001b[1m13s\u001b[0m 10ms/step - accuracy: 0.7368 - loss: 0.4910 - val_accuracy: 0.7478 - val_loss: 0.5056\n"
     ]
    },
    {
     "data": {
      "text/plain": [
       "<keras.src.callbacks.history.History at 0x791fe09b2b90>"
      ]
     },
     "execution_count": 5,
     "metadata": {},
     "output_type": "execute_result"
    }
   ],
   "source": [
    "# Create the CNN model\n",
    "model = Sequential()\n",
    "model.add(Embedding(input_dim=2000, output_dim=100, input_length=max_length))  # Increased vocabulary and embedding dimension\n",
    "model.add(Conv1D(filters=128, kernel_size=3, activation='relu'))\n",
    "model.add(GlobalMaxPooling1D())\n",
    "model.add(Dense(50, activation='relu'))  # Larger dense layer\n",
    "model.add(Dropout(0.5))\n",
    "model.add(Dense(4, activation='softmax'))  # Multiclass classification\n",
    "\n",
    "model.compile(loss='categorical_crossentropy', optimizer='adam', metrics=['accuracy'])\n",
    "\n",
    "# Train the model\n",
    "model.fit(X_train, y_train, epochs=10, batch_size=64, validation_data=(X_test, y_test))"
   ]
  },
  {
   "cell_type": "code",
   "execution_count": 6,
   "id": "ecab8bb6",
   "metadata": {
    "execution": {
     "iopub.execute_input": "2024-05-10T13:52:27.674100Z",
     "iopub.status.busy": "2024-05-10T13:52:27.673270Z",
     "iopub.status.idle": "2024-05-10T13:52:29.904153Z",
     "shell.execute_reply": "2024-05-10T13:52:29.903178Z"
    },
    "papermill": {
     "duration": 2.454753,
     "end_time": "2024-05-10T13:52:29.906676",
     "exception": false,
     "start_time": "2024-05-10T13:52:27.451923",
     "status": "completed"
    },
    "tags": []
   },
   "outputs": [
    {
     "name": "stdout",
     "output_type": "stream",
     "text": [
      "\u001b[1m254/254\u001b[0m \u001b[32m━━━━━━━━━━━━━━━━━━━━\u001b[0m\u001b[37m\u001b[0m \u001b[1m1s\u001b[0m 3ms/step - accuracy: 0.4040 - loss: 0.8032\n",
      "Test accuracy: 0.75\n",
      "\u001b[1m254/254\u001b[0m \u001b[32m━━━━━━━━━━━━━━━━━━━━\u001b[0m\u001b[37m\u001b[0m \u001b[1m1s\u001b[0m 3ms/step\n",
      "              precision    recall  f1-score   support\n",
      "\n",
      "           0       0.00      0.00      0.00      2044\n",
      "           1       0.67      1.00      0.80      2111\n",
      "           2       1.00      1.00      1.00      1859\n",
      "           3       0.67      1.00      0.81      2105\n",
      "\n",
      "    accuracy                           0.75      8119\n",
      "   macro avg       0.59      0.75      0.65      8119\n",
      "weighted avg       0.58      0.75      0.65      8119\n",
      "\n"
     ]
    },
    {
     "name": "stderr",
     "output_type": "stream",
     "text": [
      "/opt/conda/lib/python3.10/site-packages/sklearn/metrics/_classification.py:1344: UndefinedMetricWarning: Precision and F-score are ill-defined and being set to 0.0 in labels with no predicted samples. Use `zero_division` parameter to control this behavior.\n",
      "  _warn_prf(average, modifier, msg_start, len(result))\n",
      "/opt/conda/lib/python3.10/site-packages/sklearn/metrics/_classification.py:1344: UndefinedMetricWarning: Precision and F-score are ill-defined and being set to 0.0 in labels with no predicted samples. Use `zero_division` parameter to control this behavior.\n",
      "  _warn_prf(average, modifier, msg_start, len(result))\n",
      "/opt/conda/lib/python3.10/site-packages/sklearn/metrics/_classification.py:1344: UndefinedMetricWarning: Precision and F-score are ill-defined and being set to 0.0 in labels with no predicted samples. Use `zero_division` parameter to control this behavior.\n",
      "  _warn_prf(average, modifier, msg_start, len(result))\n"
     ]
    },
    {
     "data": {
      "image/png": "[encoded data removed]",
      "text/plain": [
       "<Figure size 800x800 with 1 Axes>"
      ]
     },
     "metadata": {},
     "output_type": "display_data"
    }
   ],
   "source": [
    "# Evaluate the model\n",
    "loss, accuracy = model.evaluate(X_test, y_test)\n",
    "print(f'Test accuracy: {accuracy:.2f}')\n",
    "\n",
    "# Predict the labels on the test set\n",
    "y_pred = model.predict(X_test)\n",
    "y_pred = np.argmax(y_pred, axis=1)\n",
    "y_test = np.argmax(y_test, axis=1)\n",
    "\n",
    "# Generate the classification report\n",
    "print(classification_report(y_test, y_pred))\n",
    "\n",
    "# Plotting the confusion matrix\n",
    "conf_mat = confusion_matrix(y_test, y_pred)\n",
    "fig, ax = plt.subplots(figsize=(8, 8))\n",
    "ax.matshow(conf_mat, cmap=plt.cm.Blues, alpha=0.3)\n",
    "for i in range(conf_mat.shape[0]):\n",
    "    for j in range(conf_mat.shape[1]):\n",
    "        ax.text(x=j, y=i, s=conf_mat[i, j], va='center', ha='center', size='xx-large')\n",
    "\n",
    "plt.xlabel('Predictions', fontsize=18)\n",
    "plt.ylabel('Actuals', fontsize=18)\n",
    "plt.title('Confusion Matrix', fontsize=18)\n",
    "plt.show()"
   ]
  }
 ],
 "metadata": {
  "kaggle": {
   "accelerator": "none",
   "dataSources": [
    {
     "datasetId": 953734,
     "sourceId": 1617094,
     "sourceType": "datasetVersion"
    }
   ],
   "dockerImageVersionId": 30698,
   "isGpuEnabled": false,
   "isInternetEnabled": true,
   "language": "python",
   "sourceType": "notebook"
  },
  "kernelspec": {
   "display_name": "Python 3",
   "language": "python",
   "name": "python3"
  },
  "language_info": {
   "codemirror_mode": {
    "name": "ipython",
    "version": 3
   },
   "file_extension": ".py",
   "mimetype": "text/x-python",
   "name": "python",
   "nbconvert_exporter": "python",
   "pygments_lexer": "ipython3",
   "version": "3.10.13"
  },
  "papermill": {
   "default_parameters": {},
   "duration": 181.635896,
   "end_time": "2024-05-10T13:52:31.855237",
   "environment_variables": {},
   "exception": null,
   "input_path": "__notebook__.ipynb",
   "output_path": "__notebook__.ipynb",
   "parameters": {},
   "start_time": "2024-05-10T13:49:30.219341",
   "version": "2.5.0"
  }
 },
 "nbformat": 4,
 "nbformat_minor": 5
}
